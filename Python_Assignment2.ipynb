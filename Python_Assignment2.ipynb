{
 "cells": [
  {
   "cell_type": "code",
   "execution_count": 12,
   "metadata": {},
   "outputs": [
    {
     "name": "stdout",
     "output_type": "stream",
     "text": [
      " \n",
      "*  \n",
      "* *  \n",
      "* * *  \n",
      "* * * *  \n",
      "* * * * *  \n",
      "* * * *  \n",
      "* * *  \n",
      "* *  \n",
      "*  \n"
     ]
    }
   ],
   "source": [
    "#Question 1\n",
    "\n",
    "def pattern(n):\n",
    "    for i in range(n+1):\n",
    "        for j in range(i):\n",
    "            print('*',end=' ')\n",
    "        print(' ')\n",
    "    rev(n-1)  \n",
    "        \n",
    "def rev(n):\n",
    "    for i in range(n,0,-1):\n",
    "        for j in range(i):\n",
    "            print('*',end=' ')\n",
    "        print(' ')\n",
    "            \n",
    "pattern(5)"
   ]
  },
  {
   "cell_type": "code",
   "execution_count": 13,
   "metadata": {},
   "outputs": [
    {
     "name": "stdout",
     "output_type": "stream",
     "text": [
      "Enter string\n",
      "param\n",
      "marap\n"
     ]
    }
   ],
   "source": [
    "#Question 2\n",
    "print(\"Enter string\")\n",
    "string=input()\n",
    "print(string[::-1])"
   ]
  },
  {
   "cell_type": "code",
   "execution_count": null,
   "metadata": {},
   "outputs": [],
   "source": []
  }
 ],
 "metadata": {
  "kernelspec": {
   "display_name": "Python 3",
   "language": "python",
   "name": "python3"
  },
  "language_info": {
   "codemirror_mode": {
    "name": "ipython",
    "version": 3
   },
   "file_extension": ".py",
   "mimetype": "text/x-python",
   "name": "python",
   "nbconvert_exporter": "python",
   "pygments_lexer": "ipython3",
   "version": "3.6.10"
  }
 },
 "nbformat": 4,
 "nbformat_minor": 4
}
