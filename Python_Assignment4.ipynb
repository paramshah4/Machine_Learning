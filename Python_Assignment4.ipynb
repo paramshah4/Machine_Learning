{
 "cells": [
  {
   "cell_type": "code",
   "execution_count": 29,
   "metadata": {},
   "outputs": [],
   "source": [
    "#Question1\n",
    "class triangle():\n",
    "    def __init__(self,a,b,c):\n",
    "        self.a=a\n",
    "        self.b=b\n",
    "        self.c=c\n",
    "\n",
    "class area(triangle):\n",
    "    def __init__(self,*args):\n",
    "        super(area,self).__init__(*args)\n",
    "        \n",
    "    def ar(self):\n",
    "        s=(self.a+self.b+self.c)/2\n",
    "        return (s*(s-self.a)*(s-self.b)*(s-self.c))**0.5"
   ]
  },
  {
   "cell_type": "code",
   "execution_count": 31,
   "metadata": {},
   "outputs": [
    {
     "name": "stdout",
     "output_type": "stream",
     "text": [
      "Enter sides\n",
      "1 2 3\n",
      "no triangle possible\n"
     ]
    }
   ],
   "source": [
    "print(\"Enter sides\")\n",
    "a,b,c=map(float,input().split())\n",
    "if(a+b>c and b+c>a and c+a>b):\n",
    "    A=area(a,b,c)\n",
    "    print('Area is {}'.format(A.ar()))\n",
    "else:\n",
    "    print('no triangle possible')"
   ]
  },
  {
   "cell_type": "code",
   "execution_count": 32,
   "metadata": {},
   "outputs": [
    {
     "data": {
      "text/plain": [
       "['ppp', 'sssss', 'qqqqq']"
      ]
     },
     "execution_count": 32,
     "metadata": {},
     "output_type": "execute_result"
    }
   ],
   "source": [
    "# Question 2\n",
    "def filter_long_words(lst,n):\n",
    "    return [val for val in lst if len(val)>n]\n",
    "lst=['ppp','sssss','qqqqq','rr']\n",
    "filter_long_words(lst,2)"
   ]
  },
  {
   "cell_type": "code",
   "execution_count": 34,
   "metadata": {},
   "outputs": [
    {
     "data": {
      "text/plain": [
       "[3, 6, 5, 2]"
      ]
     },
     "execution_count": 34,
     "metadata": {},
     "output_type": "execute_result"
    }
   ],
   "source": [
    "#Question 3\n",
    "def mapping(lst):\n",
    "    return [len(val) for val in lst]\n",
    "lst=['ppp','ssssss','qqqqq','rr']\n",
    "mapping(lst)"
   ]
  },
  {
   "cell_type": "code",
   "execution_count": 41,
   "metadata": {},
   "outputs": [
    {
     "name": "stdout",
     "output_type": "stream",
     "text": [
      "False\n",
      "True\n"
     ]
    }
   ],
   "source": [
    "#Question4 \n",
    "def vowel(ch):\n",
    "    ch=ch.lower()\n",
    "    if(ch=='a'or ch=='e'or ch=='i'or ch=='o'or ch=='u'):\n",
    "        return True\n",
    "    else:\n",
    "        return False\n",
    "print(vowel('Z'))\n",
    "print(vowel('I'))"
   ]
  },
  {
   "cell_type": "code",
   "execution_count": null,
   "metadata": {},
   "outputs": [],
   "source": []
  }
 ],
 "metadata": {
  "kernelspec": {
   "display_name": "Python 3",
   "language": "python",
   "name": "python3"
  },
  "language_info": {
   "codemirror_mode": {
    "name": "ipython",
    "version": 3
   },
   "file_extension": ".py",
   "mimetype": "text/x-python",
   "name": "python",
   "nbconvert_exporter": "python",
   "pygments_lexer": "ipython3",
   "version": "3.6.10"
  }
 },
 "nbformat": 4,
 "nbformat_minor": 4
}
